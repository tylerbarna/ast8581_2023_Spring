{
 "cells": [
  {
   "cell_type": "markdown",
   "metadata": {
    "slideshow": {
     "slide_type": "slide"
    }
   },
   "source": [
    "# Week 05 (Wednesday), AST 8581 / PHYS 8581 / CSCI 8581: Big Data in Astrophysics\n",
    "\n",
    "### Michael Coughlin <cough052@umn.edu>, Jie Ding <dingj@umn.edu>\n",
    "\n",
    "\n",
    "Based on notebooks available here: https://github.com/markjay4k/fourier-transform; and with contributions totally ripped off from Ashish Mahabal, Gautham Narayan (UIUC), Michael Steinbach (UMN), and Nico Adams (UMN)"
   ]
  },
  {
   "cell_type": "markdown",
   "metadata": {},
   "source": [
    "# Where do we stand?\n",
    "\n",
    "Foundations of Data and Probability -> Statistical frameworks (Frequentist vs Bayesian) -> Estimating underlying distributions -> Analysis of Time series (continued)"
   ]
  },
  {
   "cell_type": "markdown",
   "metadata": {
    "collapsed": true
   },
   "source": [
    "# Last Class: Fourier Series and Fourier Transform"
   ]
  },
  {
   "cell_type": "markdown",
   "metadata": {
    "slideshow": {
     "slide_type": "subslide"
    }
   },
   "source": [
    "The Fourier Transform by itself can be powerful if \n",
    "1. the signal-to-noise is high\n",
    "2. the signal is continious and uniformly sampled \n",
    "3. the shape you are modeling is simple and can be decomposed into a few Fourier terms."
   ]
  },
  {
   "cell_type": "markdown",
   "metadata": {},
   "source": [
    "# Today: Periodicity in non-uniformly sampled data (Lomb-Scargle)\n",
    "\n",
    "Unfortunately, these are not the usual conditions we have when taking data. We will look at this case next time.\n",
    "\n",
    "The figure on the left is the kind of data that you **want** to have, whereas the figure on the right is the kind of data that you are more likely to actually have.\n",
    "<img src=\"figures/rrlyrae-good.png\" style=\"float: left; width: 40%; margin-right: 1%;\"> <img src=\"figures/rrlyrae-bad.png\" style=\"float: left; width: 40%; margin-right: 1%;\">"
   ]
  },
  {
   "cell_type": "markdown",
   "metadata": {},
   "source": [
    "### Properties of light-curves\n",
    "* Gappy\n",
    "* Irregular\n",
    "* Heteroskedastic (the variance tends to vary with source brightness, for example)\n",
    "\n",
    "### Reasons\n",
    "* expense, rotation/revolution of Earth, moon\n",
    "* science objectives, weather, moon\n",
    "* weather, moon, airmass"
   ]
  },
  {
   "cell_type": "markdown",
   "metadata": {},
   "source": [
    "## What can we do with light-curves?\n",
    "* Abstract them through generic statistical measures\n",
    "* Use domain knowledge to look for characteristics\n",
    "* See if they are periodic"
   ]
  },
  {
   "cell_type": "markdown",
   "metadata": {},
   "source": [
    "## Statistical Features\n",
    "\n",
    "* Compute features (statistical measures) for each light curve: amplitudes, moments, periodicity, etc.\n",
    "* Converts heterogeneous light curves into homogeneous feature vectors in the parameter space\n",
    "* Apply a variety of automated classification methods"
   ]
  },
  {
   "cell_type": "markdown",
   "metadata": {
    "slideshow": {
     "slide_type": "slide"
    }
   },
   "source": [
    "# The Periodogram\n",
    "\n",
    "What we want to be able to do is to detect variability and measure the period in the face of both noisy and incomplete data. Instead we'll use Fourier decomposition to get a more useful tool for actual data analysis.\n",
    "\n",
    "\n",
    "For a periodic signal we have:\n",
    "\n",
    "$$y(t+P)=y(t),$$ where $P$ is the period.\n",
    "\n",
    "We can create a *phased light curve* that plots the data as function of phase:\n",
    "$$\\phi=\\frac{t}{P} − {\\rm int}\\left(\\frac{t}{P}\\right),$$\n",
    "\n",
    "where ${\\rm int}(x)$ returns the integer part of $x$."
   ]
  },
  {
   "cell_type": "markdown",
   "metadata": {
    "slideshow": {
     "slide_type": "subslide"
    }
   },
   "source": [
    "### A Single Sinusoid\n",
    "\n",
    "Let's take the case where the data are drawn from a single sinusoidal signal:\n",
    "\n",
    "# $$y(t)=A \\sin(\\omega t+\\phi)+\\epsilon$$\n",
    "\n",
    "and determine whether or not the data are indeed consistent with periodic variability and, if so, what is the period.\n",
    "\n",
    "\n",
    "This model is annoying to work with because it's **non-linear** in the frequency term, $\\omega$ and the phase, $\\phi$\n",
    "\n",
    "We can rewrite the argument as $\\omega(t−t_0)$ (reexpressing the phase term) and use trig identies to rewrite the model as: \n",
    "\n",
    "# $$y(t)=a \\sin(\\omega t)+b \\cos(\\omega t)$$\n",
    "\n",
    "where \n",
    "\n",
    "# $$A=(a^2+b^2)^{1/2} \\text{ and } \\phi=\\tan^{−1}(b/a)$$\n",
    "\n",
    "The model is now linear with respect to coefficients $a$ and $b$ (and nonlinear only with respect to frequency, $\\omega$). So we got rid of one of the two non-linear parameters!"
   ]
  },
  {
   "cell_type": "markdown",
   "metadata": {
    "slideshow": {
     "slide_type": "slide"
    }
   },
   "source": [
    "It turns out, if we know the noise $\\sigma$ then \n",
    "\n",
    "# $$   p(\\omega|\\{t,y\\}, \\sigma) \\propto \\exp \\left( { P(\\omega) \\over \\sigma^2} \\right)$$\n",
    "\n",
    "giving us the posterior for $\\omega$! "
   ]
  },
  {
   "cell_type": "markdown",
   "metadata": {
    "slideshow": {
     "slide_type": "slide"
    }
   },
   "source": [
    "$P(\\omega)$ is the [periodogram](https://en.wikipedia.org/wiki/Periodogram), which is just a plot of the \"power\" at each possible period\n",
    "\n",
    "So the process is similar to what we did with maximum likelihood estimation\n",
    "1. Get some data\n",
    "2. Make a uniform grid in period\n",
    "3. Evaluate the likelihood/the periodogram power at each period \n",
    "4. Identify the period with the maximum power\n",
    "\n",
    "<img src=\"figures/periodogram.png\">"
   ]
  },
  {
   "cell_type": "markdown",
   "metadata": {
    "slideshow": {
     "slide_type": "notes"
    }
   },
   "source": [
    "### Significance of the peaks in the periodogram\n",
    "\n",
    "The amplitude(s) of the periodic signal can be derived from the posterior in much the same way as we do for MLE i.e. take the derivative of the posterior with respect to $a$ and $b$, equate to 0 and find where the maximum is.\n",
    "\n",
    "But what we really want to know is the \"best value\" $\\omega$? \n",
    "\n",
    "The $\\chi^2$ is given by\n",
    "$$\\chi^2(\\omega) \\equiv {1 \\over \\sigma^2} \\sum_{j=1}^N [y_j-y(t_j)]^2 =\n",
    "  {1 \\over \\sigma^2} \\sum_{j=1}^N [y_j- a_0\\, \\sin(\\omega t_j) - b_0 \\, \\cos(\\omega t_j)]^2$$\n",
    "  \n",
    "which we can simplify to\n",
    "\n",
    "$$\\chi^2(\\omega) =  \\chi_0^2 \\, \\left[1 - {2 \\over N \\, V}  \\, P(\\omega) \\right]$$\n",
    "\n",
    "where, again, $P(\\omega)$ is the periodogram and $\\chi_0^2$ is the $\\chi^2$ for a model with $y(t)$=constant:\n",
    "\n",
    "$$  \\chi_0^2 = {1 \\over \\sigma^2} \\sum_{j=1}^N y_j^2 = {N \\, V \\over \\sigma^2}$$"
   ]
  },
  {
   "cell_type": "markdown",
   "metadata": {
    "slideshow": {
     "slide_type": "notes"
    }
   },
   "source": [
    "We'll now renormalise the periodogram, defining the [Lomb-Scargle periodogram](https://en.wikipedia.org/wiki/Least-squares_spectral_analysis#The_Lomb.E2.80.93Scargle_periodogram) as\n",
    "\n",
    "$$P_{\\rm LS}(\\omega) = \\frac{2}{N V} P(\\omega),$$  where $0 \\le P_{\\rm LS}(\\omega) \\le 1$.\n",
    "\n",
    "With this renormalization, the reduction in $\\chi^2(\\omega)$ for the harmonic model, \n",
    "relative to $\\chi^2$ for the pure noise model, $\\chi^2_0$ is\n",
    "$${\\chi^2(\\omega) \\over \\chi^2_0}=  1 - P_{LS}(\\omega).$$\n",
    "\n",
    "To determine if our source is variable or not, we first compute $P_{\\rm LS}(\\omega)$ and then model the odds ratio for our variability model vs. a no-variability model.\n",
    "\n",
    "If our variability model is \"correct\", then the peak of $P(\\omega)$ [found by grid search] gives the best $\\omega$ and the $\\chi^2$ at $\\omega = \\omega_0$ is $N$."
   ]
  },
  {
   "cell_type": "markdown",
   "metadata": {
    "slideshow": {
     "slide_type": "notes"
    }
   },
   "source": [
    "If the true frequency is $\\omega_0$ then the maximum peak in the periodogram should have a height\n",
    "\n",
    "$$P(\\omega_0) = {N \\over 4} (a_0^2 + b_0^2)$$\n",
    "\n",
    "and standard deviation\n",
    "$$      \\sigma_P(\\omega_0)  = {\\sqrt{2} \\over 2} \\, \\sigma^2.$$"
   ]
  },
  {
   "cell_type": "markdown",
   "metadata": {
    "slideshow": {
     "slide_type": "slide"
    }
   },
   "source": [
    "\n",
    "# Properties of LS and the periodogram\n",
    "\n",
    "- The expected heights of the peaks in a periodogram don't depend on $\\sigma$ but their variation in height do.\n",
    "- For $P_{\\rm LS}(\\omega_0)$, with no noise the peak approaches 1. As noise increases, $P_{\\rm LS}(\\omega_0)$ decreases and is ``buried'' in the background  noise.\n",
    "- Our derivation worked for mean = 0, and data in a single channel/passband\n",
    "    - Extensions of Lomb-Scargle to multiple passbands and to handle a floating mean + many numerical approximations\n",
    "    \n",
    "## [Jake VanDerPlas has a good writeup on understanding the periodogram](https://arxiv.org/abs/1703.09824)"
   ]
  },
  {
   "cell_type": "markdown",
   "metadata": {
    "slideshow": {
     "slide_type": "slide"
    }
   },
   "source": [
    "# What the periodogram is good for and what it isn't\n",
    "\n",
    "Pros:\n",
    "- Works with unevenly sampled data, and binning in phase helps build statistics even with noisy data\n",
    "\n",
    "Cons:\n",
    "- ANY PERIODIC SIGNAL IN THE DATA WILL EXHIBIT SOME POWER\n",
    "    - This includes aliases of the true period\n",
    "- Multiband extension requires  that the period/frequency is the same across all channels/passbands \n",
    "    - this is not the case for many time-series phenomena\n",
    "\n",
    "\n",
    "<img src=\"figures/Sun-Wavelength-Chart.jpg\">\n",
    "\n"
   ]
  },
  {
   "cell_type": "markdown",
   "metadata": {
    "slideshow": {
     "slide_type": "slide"
    }
   },
   "source": [
    "# In-class warm-up: Finding the Period of a Variable Star\n",
    "\n",
    "If you don't already have gatspy, you'll want it:\n",
    "\n",
    "> `conda install gatspy`\n",
    "\n",
    "There are alternatives but it is one of the best for CPU-based Lomb-Scargle.\n",
    "\n",
    "There is some data in a file below.\n",
    "\n",
    "1. Plot it up to see what it looks like\n",
    "2. Use the Lomb-Scargle Multiband to construct a periodogram on a grid of a 1000 periods\n",
    "3. Plot the folded light curve for the best-guess period"
   ]
  },
  {
   "cell_type": "code",
   "execution_count": 3,
   "metadata": {
    "slideshow": {
     "slide_type": "skip"
    }
   },
   "outputs": [
    {
     "data": {
      "text/html": [
       "<i>Table length=389</i>\n",
       "<table id=\"table140595436048592\" class=\"table-striped table-bordered table-condensed\">\n",
       "<thead><tr><th>HJD</th><th>MAG</th><th>MAGERR</th><th>CONTAM</th><th>SKYLO</th><th>SKYHI</th><th>BLIM</th><th>TYPE</th><th>CHIP</th><th>XP</th><th>YP</th><th>FILTS</th></tr></thead>\n",
       "<thead><tr><th>float64</th><th>float64</th><th>float64</th><th>float64</th><th>float64</th><th>float64</th><th>float64</th><th>float64</th><th>float64</th><th>float64</th><th>float64</th><th>str1</th></tr></thead>\n",
       "<tr><td>56423.713908</td><td>19.136</td><td>0.02</td><td>0.0</td><td>22.19</td><td>30.6</td><td>0.088</td><td>1.0</td><td>4.0</td><td>163.44</td><td>1993.44</td><td>u</td></tr>\n",
       "<tr><td>56423.862091</td><td>19.07</td><td>0.016</td><td>0.0</td><td>22.93</td><td>31.95</td><td>0.085</td><td>1.0</td><td>4.0</td><td>70.75</td><td>2060.01</td><td>u</td></tr>\n",
       "<tr><td>56424.694922</td><td>19.209</td><td>0.021</td><td>0.0</td><td>19.38</td><td>28.98</td><td>0.089</td><td>1.0</td><td>4.0</td><td>147.53</td><td>2012.44</td><td>u</td></tr>\n",
       "<tr><td>56424.77499</td><td>18.982</td><td>0.019</td><td>0.0</td><td>42.83</td><td>68.57</td><td>0.089</td><td>1.0</td><td>4.0</td><td>116.54</td><td>2031.77</td><td>u</td></tr>\n",
       "<tr><td>56424.86045</td><td>19.054</td><td>0.015</td><td>0.0</td><td>39.22</td><td>57.04</td><td>0.079</td><td>1.0</td><td>4.0</td><td>132.58</td><td>2006.13</td><td>u</td></tr>\n",
       "<tr><td>56450.659293</td><td>19.255</td><td>0.017</td><td>0.0</td><td>18.3</td><td>26.51</td><td>0.087</td><td>1.0</td><td>4.0</td><td>250.52</td><td>1937.43</td><td>u</td></tr>\n",
       "<tr><td>56450.785196</td><td>18.935</td><td>0.017</td><td>0.0</td><td>21.16</td><td>30.51</td><td>0.082</td><td>1.0</td><td>4.0</td><td>193.17</td><td>1973.04</td><td>u</td></tr>\n",
       "<tr><td>56450.883668</td><td>19.197</td><td>0.019</td><td>0.0</td><td>26.06</td><td>35.37</td><td>0.087</td><td>1.0</td><td>4.0</td><td>203.26</td><td>1970.1</td><td>u</td></tr>\n",
       "<tr><td>56450.936075</td><td>19.248</td><td>0.022</td><td>0.0</td><td>46.57</td><td>56.34</td><td>0.096</td><td>1.0</td><td>4.0</td><td>206.95</td><td>1993.73</td><td>u</td></tr>\n",
       "<tr><td>56451.659815</td><td>19.242</td><td>0.018</td><td>0.0</td><td>19.06</td><td>27.64</td><td>0.088</td><td>1.0</td><td>4.0</td><td>244.32</td><td>1975.91</td><td>u</td></tr>\n",
       "<tr><td>...</td><td>...</td><td>...</td><td>...</td><td>...</td><td>...</td><td>...</td><td>...</td><td>...</td><td>...</td><td>...</td><td>...</td></tr>\n",
       "<tr><td>57116.781516</td><td>17.269</td><td>0.019</td><td>0.0</td><td>45.11</td><td>49.46</td><td>0.094</td><td>1.0</td><td>3.0</td><td>227.39</td><td>1988.64</td><td>z</td></tr>\n",
       "<tr><td>57116.794672</td><td>17.285</td><td>0.017</td><td>0.0</td><td>47.99</td><td>52.26</td><td>0.094</td><td>1.0</td><td>3.0</td><td>200.68</td><td>1988.27</td><td>z</td></tr>\n",
       "<tr><td>57116.807651</td><td>17.348</td><td>0.018</td><td>0.0</td><td>50.41</td><td>54.79</td><td>0.093</td><td>1.0</td><td>3.0</td><td>216.69</td><td>1976.34</td><td>z</td></tr>\n",
       "<tr><td>57116.82062</td><td>17.377</td><td>0.021</td><td>0.0</td><td>981.12</td><td>1029.42</td><td>0.077</td><td>1.0</td><td>3.0</td><td>221.71</td><td>1993.68</td><td>z</td></tr>\n",
       "<tr><td>57116.846514</td><td>17.454</td><td>0.028</td><td>0.0</td><td>47.33</td><td>51.16</td><td>0.093</td><td>1.0</td><td>3.0</td><td>204.49</td><td>1990.62</td><td>z</td></tr>\n",
       "<tr><td>57116.860216</td><td>17.375</td><td>0.018</td><td>0.0</td><td>51.13</td><td>55.5</td><td>0.093</td><td>1.0</td><td>3.0</td><td>221.68</td><td>1993.77</td><td>z</td></tr>\n",
       "<tr><td>57116.873075</td><td>17.325</td><td>0.017</td><td>0.0</td><td>80.67</td><td>84.92</td><td>0.101</td><td>1.0</td><td>3.0</td><td>197.25</td><td>2029.49</td><td>z</td></tr>\n",
       "<tr><td>57116.886192</td><td>17.255</td><td>0.02</td><td>0.0</td><td>73.38</td><td>77.84</td><td>0.1</td><td>1.0</td><td>3.0</td><td>213.92</td><td>1998.6</td><td>z</td></tr>\n",
       "<tr><td>57116.899254</td><td>17.212</td><td>0.015</td><td>0.0</td><td>64.64</td><td>68.98</td><td>0.094</td><td>1.0</td><td>3.0</td><td>224.47</td><td>1994.63</td><td>z</td></tr>\n",
       "<tr><td>57116.913034</td><td>17.196</td><td>0.02</td><td>0.0</td><td>61.0</td><td>65.59</td><td>0.098</td><td>1.0</td><td>3.0</td><td>237.07</td><td>2020.5</td><td>z</td></tr>\n",
       "</table>"
      ],
      "text/plain": [
       "<Table length=389>\n",
       "    HJD        MAG    MAGERR  CONTAM  SKYLO  ...   CHIP     XP      YP   FILTS\n",
       "  float64    float64 float64 float64 float64 ... float64 float64 float64  str1\n",
       "------------ ------- ------- ------- ------- ... ------- ------- ------- -----\n",
       "56423.713908  19.136    0.02     0.0   22.19 ...     4.0  163.44 1993.44     u\n",
       "56423.862091   19.07   0.016     0.0   22.93 ...     4.0   70.75 2060.01     u\n",
       "56424.694922  19.209   0.021     0.0   19.38 ...     4.0  147.53 2012.44     u\n",
       " 56424.77499  18.982   0.019     0.0   42.83 ...     4.0  116.54 2031.77     u\n",
       " 56424.86045  19.054   0.015     0.0   39.22 ...     4.0  132.58 2006.13     u\n",
       "56450.659293  19.255   0.017     0.0    18.3 ...     4.0  250.52 1937.43     u\n",
       "56450.785196  18.935   0.017     0.0   21.16 ...     4.0  193.17 1973.04     u\n",
       "56450.883668  19.197   0.019     0.0   26.06 ...     4.0  203.26  1970.1     u\n",
       "56450.936075  19.248   0.022     0.0   46.57 ...     4.0  206.95 1993.73     u\n",
       "56451.659815  19.242   0.018     0.0   19.06 ...     4.0  244.32 1975.91     u\n",
       "         ...     ...     ...     ...     ... ...     ...     ...     ...   ...\n",
       "57116.781516  17.269   0.019     0.0   45.11 ...     3.0  227.39 1988.64     z\n",
       "57116.794672  17.285   0.017     0.0   47.99 ...     3.0  200.68 1988.27     z\n",
       "57116.807651  17.348   0.018     0.0   50.41 ...     3.0  216.69 1976.34     z\n",
       " 57116.82062  17.377   0.021     0.0  981.12 ...     3.0  221.71 1993.68     z\n",
       "57116.846514  17.454   0.028     0.0   47.33 ...     3.0  204.49 1990.62     z\n",
       "57116.860216  17.375   0.018     0.0   51.13 ...     3.0  221.68 1993.77     z\n",
       "57116.873075  17.325   0.017     0.0   80.67 ...     3.0  197.25 2029.49     z\n",
       "57116.886192  17.255    0.02     0.0   73.38 ...     3.0  213.92  1998.6     z\n",
       "57116.899254  17.212   0.015     0.0   64.64 ...     3.0  224.47 1994.63     z\n",
       "57116.913034  17.196    0.02     0.0    61.0 ...     3.0  237.07  2020.5     z"
      ]
     },
     "execution_count": 3,
     "metadata": {},
     "output_type": "execute_result"
    }
   ],
   "source": [
    "# RUN THIS\n",
    "%matplotlib inline\n",
    "import astropy.table as at\n",
    "import matplotlib.pyplot as plt\n",
    "import numpy as np\n",
    "from gatspy.periodic import LombScargleMultiband\n",
    "\n",
    "data = at.Table.read('data/1938779.dat', format='ascii')\n",
    "\n",
    "t     = data['HJD']\n",
    "y     = data['MAG']\n",
    "dy    = data['MAGERR']\n",
    "filts = data['FILTS']\n",
    "\n",
    "data"
   ]
  },
  {
   "cell_type": "code",
   "execution_count": 1,
   "metadata": {
    "slideshow": {
     "slide_type": "slide"
    }
   },
   "outputs": [],
   "source": [
    "# PLOT THE DATA IN EACH PASSBAND - YOUR CODE HERE"
   ]
  },
  {
   "cell_type": "code",
   "execution_count": 4,
   "metadata": {
    "slideshow": {
     "slide_type": "slide"
    }
   },
   "outputs": [
    {
     "data": {
      "text/plain": [
       "[<matplotlib.lines.Line2D at 0x7fdeecafa410>]"
      ]
     },
     "execution_count": 4,
     "metadata": {},
     "output_type": "execute_result"
    },
    {
     "data": {
      "image/png": "[encoded data removed]",
      "text/plain": [
       "<Figure size 432x288 with 1 Axes>"
      ]
     },
     "metadata": {
      "needs_background": "light"
     },
     "output_type": "display_data"
    }
   ],
   "source": [
    "# You can set the number of terms in the Lomb-Scargle periodogram, either baseline or by band\n",
    "model = LombScargleMultiband(Nterms_base=9, Nterms_band=0)\n",
    "model.fit(t, y, dy, filts)\n",
    "\n",
    "# CREATE A GRID OF PERIODS BETWEEN 0.1 - 2 days \n",
    "periods = np.linspace(0.1, 2, 1000)\n",
    "\n",
    "# YOU CAN COMPUTE THE PERIODOGRAM WITH:\n",
    "power = model.periodogram(periods)\n",
    "\n",
    "# PLOT THE PERIODOGRAM\n",
    "plt.plot(periods, power)"
   ]
  },
  {
   "cell_type": "code",
   "execution_count": 5,
   "metadata": {
    "slideshow": {
     "slide_type": "slide"
    }
   },
   "outputs": [
    {
     "name": "stdout",
     "output_type": "stream",
     "text": [
      "Finding optimal frequency:\n",
      " - Estimated peak width = 0.00906\n",
      " - Using 5 steps per peak; omega_step = 0.00181\n",
      " - User-specified period range:  0.2 to 0.8\n",
      " - Computing periods at 12999 steps\n",
      "Zooming-in on 5 candidate peaks:\n",
      " - Computing periods at 995 steps\n"
     ]
    }
   ],
   "source": [
    "# YOU CAN SET THE RANGE FOR THE PERIOD SEARCH TO NARROW THINGS DOWN\n",
    "model.optimizer.period_range = (0.2, 0.8)\n",
    "\n",
    "# WITHIN THIS NARROW RANGE LOMB-SCARGLE CAN GIVE YOU THE BEST PERIOD\n",
    "period = model.best_period"
   ]
  },
  {
   "cell_type": "code",
   "execution_count": 6,
   "metadata": {
    "slideshow": {
     "slide_type": "slide"
    }
   },
   "outputs": [
    {
     "data": {
      "image/png": "[encoded data removed]",
      "text/plain": [
       "<Figure size 432x432 with 1 Axes>"
      ]
     },
     "metadata": {
      "needs_background": "light"
     },
     "output_type": "display_data"
    }
   ],
   "source": [
    "# RUN THIS TO LOOK AT YOUR FOLDED LIGHT CURVE\n",
    "tfit = np.linspace(0, period, 1000)\n",
    "fig, ax = plt.subplots(nrows=1, ncols=1, figsize=(6,6))\n",
    "for pb in set(filts):\n",
    "    pfilt = [pb,]*len(tfit)\n",
    "    yfit = model.predict(tfit, filts=pfilt)\n",
    "    ax.plot(tfit, yfit, linestyle='-', marker='.', color='grey', alpha=0.1)\n",
    "    ind = (filts == pb)\n",
    "    ax.errorbar(t[ind]%period, y[ind], yerr=dy[ind], linestyle='None', marker='o')\n",
    "ax.set_xlabel('HJD')  \n",
    "ax.set_ylabel('MAG')\n",
    "fig.suptitle(f'Period = {period:.5f} days')\n",
    "ax.invert_yaxis()"
   ]
  },
  {
   "cell_type": "markdown",
   "metadata": {},
   "source": [
    "# In-Class Exercise: Period analysis of a Synthetic Lightcurve\n",
    "\n",
    "First, we need to generate a lightcurve to work with. The function below generates a series of timestamps t, and a sinusoidal signal y with noise dy added to it. We will use this lightcurve to test our functions. Note that our y values are generated with a sin function with a frequency of 2pi, or equiaveletly, a period of 1."
   ]
  },
  {
   "cell_type": "code",
   "execution_count": 7,
   "metadata": {},
   "outputs": [],
   "source": [
    "import numpy as np\n",
    "from astropy.stats import LombScargle\n",
    "%matplotlib inline\n",
    "import matplotlib.pyplot as plt\n",
    "import os"
   ]
  },
  {
   "cell_type": "code",
   "execution_count": 8,
   "metadata": {},
   "outputs": [],
   "source": [
    "cwd = os.getcwd()\n",
    "data_dir = os.path.join(cwd, 'data')"
   ]
  },
  {
   "cell_type": "code",
   "execution_count": 9,
   "metadata": {
    "scrolled": true
   },
   "outputs": [
    {
     "data": {
      "text/plain": [
       "Text(0, 0.5, 'Flux')"
      ]
     },
     "execution_count": 9,
     "metadata": {},
     "output_type": "execute_result"
    },
    {
     "data": {
      "image/png": "[encoded data removed]",
      "text/plain": [
       "<Figure size 432x288 with 1 Axes>"
      ]
     },
     "metadata": {
      "needs_background": "light"
     },
     "output_type": "display_data"
    }
   ],
   "source": [
    "# \"Generates a sample lightcurve with times t, magnitudes y, and errors dy\n",
    "\n",
    "rand = np.random.RandomState(42)\n",
    "t = 100 * rand.rand(100)\n",
    "y = np.sin(2 * np.pi * t) + 0.1 * rand.randn(100)\n",
    "dy = 0.1 * (1 + rand.rand(100))\n",
    "\n",
    "plt.errorbar(t,y,dy,ls='none',c='k')\n",
    "plt.xlabel('Time')\n",
    "plt.ylabel('Flux')\n"
   ]
  },
  {
   "cell_type": "markdown",
   "metadata": {},
   "source": [
    "As you can see, this lightcurve is not very interesting when we plot it. This is where we need to use period finding analysis to learn more. Below, we try plotting the function in a new way--phase folding it. When we do this, we assume a period, and compute what phase each timestamps corresponds to between 0 and 1, assuming that period. Below, we try folding our lightcurve with the period equal to 1."
   ]
  },
  {
   "cell_type": "code",
   "execution_count": 10,
   "metadata": {},
   "outputs": [
    {
     "data": {
      "image/png": "[encoded data removed]",
      "text/plain": [
       "<Figure size 432x288 with 1 Axes>"
      ]
     },
     "metadata": {
      "needs_background": "light"
     },
     "output_type": "display_data"
    }
   ],
   "source": [
    "# \"this function takes times t, mags y, and errors dy, and a period and phase folds the lightcurve at this period\n",
    "\n",
    "def phase_fold(t,y,dy,period):\n",
    "    phases=np.remainder(t,period)/period\n",
    "    phases=np.concatenate((phases,phases+1))\n",
    "    y=np.concatenate((y,y))\n",
    "    dy=np.concatenate((dy,dy))\n",
    "    plt.errorbar(phases,y,dy,ls='none',c='k')\n",
    "    plt.xlabel('Phase')\n",
    "    plt.ylabel('Flux')\n",
    "    \n",
    "phase_fold(t,y,dy,1)"
   ]
  },
  {
   "cell_type": "markdown",
   "metadata": {},
   "source": [
    "Phase-folding can be used as a rudimentary method of period determination.  One may make educated guesses about the period of the phenomenon and phase-fold the lightcurve to see if a repeating pattern emerges.  Try this for this observations of the asteroid 1856 Ruzena, observed by non-Astronomy majors from the University of Maryland in April 2018 along with collaborators in Malta.  Asteroids typically have rotation periods between 2 and 12 hours.\n",
    "\n",
    "The code below plots the raw, or unphased lightcurve, for all four nights of observations of the asteroid."
   ]
  },
  {
   "cell_type": "code",
   "execution_count": 11,
   "metadata": {},
   "outputs": [
    {
     "data": {
      "text/plain": [
       "Text(0, 0.5, 'Differential Magnitude')"
      ]
     },
     "execution_count": 11,
     "metadata": {},
     "output_type": "execute_result"
    },
    {
     "data": {
      "image/png": "[encoded data removed]",
      "text/plain": [
       "<Figure size 432x288 with 1 Axes>"
      ]
     },
     "metadata": {
      "needs_background": "light"
     },
     "output_type": "display_data"
    }
   ],
   "source": [
    "data=np.loadtxt(os.path.join(data_dir,'asteroid1.csv'),delimiter=',',skiprows=1)\n",
    "t=data[:,0]\n",
    "y=data[:,1]\n",
    "plt.plot(t,y,ls='none',marker=\"o\")\n",
    "plt.xlabel('Julian Date')\n",
    "plt.ylabel('Differential Magnitude')\n"
   ]
  },
  {
   "cell_type": "markdown",
   "metadata": {},
   "source": [
    "Why does the plot above show four vertical strings of points?  Each vertical \"string\" of points is one night of observations.  Compared to the entire period of time along the x-axis, each night is a very small length of time.  If you alter the code in the cell and change the limits on the x axis, you, can view each night of data individually.  (This will help you get an idea of the length of the asteroid's rotation period, so this is an especially useful exercise.)\n",
    "\n",
    "It's not unusual for astronomers to have large gaps in lightcurves due to daytime and longer periods of time when observations were not able to be made (i.e., weather, length of observing cycles).  Phase-folding, or phasing, the lightcurve to trial periods allows one to remove these gaps and visualize the data more easily.\n",
    "\n",
    "Below, you will try phasing the data for 1856 Ruzena to trial periods to see if you can determine the asteroid's rotation period by the trial-and error method.  Don't spend more than 5 minutes trying different test periods - you could do this all day and never get lucky with the correct period, since you'll need several decimal places of precision.  (The students from the class published the rotation periods to 4 decimal places of precision using only these data.)\n",
    "\n",
    "Also, consider carefully:  when you have correctly determined the asteroid's rotation period and have a phased lightcurve, how many maxima and minima should it have in one complete phase?"
   ]
  },
  {
   "cell_type": "code",
   "execution_count": 12,
   "metadata": {},
   "outputs": [],
   "source": [
    "# create a dy array with error bars of 0.1 to pass to your phase fold function\n",
    "dy = 0.1*np.ones(y.shape)\n",
    "#period in units of days\n",
    "#period=...\n",
    "#phase_fold(...t,y,dy,period)"
   ]
  },
  {
   "cell_type": "markdown",
   "metadata": {},
   "source": [
    "From your experience with the trial-and-error method above, you can see that a better method of finding test periods is needed.  This is where the Lomb-Scargle Periodogram method is used.  This method essentially measures how much power is present at each frequency within the data: more power at a certain frequency should indicate a repeating signal within the data.  However, that signal could be from a physical phenomenon, such as a pulsating star or rotating asteroid, or it could be an artifact, such as the day/night cycle or other artificial frequencies caused by the observing process.  The astronomer must interpret the data to make a final decision.\n",
    "\n",
    "In this case, we know that the period is 1 day; usually one does not know this ahead of time, and so we will use the LS Periodogram to tell us this.\n",
    "\n",
    "Use the LombScargleMultiband function to compute the power spectrum (which shows us the relative strength of signals at different frequencies (frequency = 1/period).  You should see a large spike at period = 1.  Try changing the value of the period and watch the periodogram (the power spectrum graph) change."
   ]
  },
  {
   "cell_type": "code",
   "execution_count": 13,
   "metadata": {},
   "outputs": [],
   "source": [
    "period=1\n",
    "\n",
    "rand = np.random.RandomState(42)\n",
    "t = 100 * rand.rand(100)\n",
    "y = np.sin(2 * np.pi /period* t) + 0.1 * rand.randn(100)\n",
    "dy = 0.1 * (1 + rand.rand(100))\n",
    "\n",
    "# YOUR CODE HERE"
   ]
  },
  {
   "cell_type": "markdown",
   "metadata": {},
   "source": [
    "Now determine the frequency with the most power to find the best period to represent the signal in the data. Use your phase-folding code to plot the phase-folded data with the best period."
   ]
  },
  {
   "cell_type": "code",
   "execution_count": 14,
   "metadata": {},
   "outputs": [],
   "source": [
    "# YOUR CODE HERE"
   ]
  },
  {
   "cell_type": "markdown",
   "metadata": {},
   "source": [
    "# In-Class Exercise: Period analysis of a real Lightcurve"
   ]
  },
  {
   "cell_type": "markdown",
   "metadata": {},
   "source": [
    "Let us apply the Lomb-Scargle Periodogram to real data.  First, let's take a look at unphased Cepheid data using the code below. (These data are from the American Association of Variable Star Observers.)   Please fill in the code block below to plot the unphased data. Notice how these data span a very long time period.  You may alter the code block in order to examine shorter time periods.  Do you have an educated guess about the period of this Cepheid?"
   ]
  },
  {
   "cell_type": "code",
   "execution_count": 15,
   "metadata": {},
   "outputs": [
    {
     "data": {
      "text/plain": [
       "Text(0, 0.5, 'V Magnitude')"
      ]
     },
     "execution_count": 15,
     "metadata": {},
     "output_type": "execute_result"
    },
    {
     "data": {
      "image/png": "[encoded data removed]",
      "text/plain": [
       "<Figure size 432x288 with 1 Axes>"
      ]
     },
     "metadata": {
      "needs_background": "light"
     },
     "output_type": "display_data"
    }
   ],
   "source": [
    "data=np.loadtxt(os.path.join(data_dir,'cepheid.csv'),delimiter=',',skiprows=1)\n",
    "t=data[:,0]\n",
    "y=data[:,1]\n",
    "plt.plot(t,y,ls='none', marker=\"o\")\n",
    "plt.xlabel('Julian Date')\n",
    "plt.ylabel('V Magnitude')"
   ]
  },
  {
   "cell_type": "markdown",
   "metadata": {},
   "source": [
    "Now apply your LS algorithm to the Cepheid data.  "
   ]
  },
  {
   "cell_type": "code",
   "execution_count": 17,
   "metadata": {},
   "outputs": [],
   "source": [
    "# Assume sensible error bars for data\n",
    "dy = 0.1 * np.ones(y.shape)\n",
    "\n",
    "# YOUR CODE HERE"
   ]
  },
  {
   "cell_type": "markdown",
   "metadata": {},
   "source": [
    "# In-Class Exercise: Lomb-Scargle Performance\n",
    "\n",
    "Since Lomb-Scargle is one of the main time series analysis techniques in astronomy, we want to assess its performance as a function of signal-to-noise, time series sampling, and waveform shape. It is often worth investigating the performance of algorithms in terms of toy data sets to get an understanding of what the limitations may be. So:"
   ]
  },
  {
   "cell_type": "markdown",
   "metadata": {},
   "source": [
    "1) Write a routine to generate a periodic sinusoidal time series at a period of $per$, containing $n$ datapoints, assuming homoscedastic Gaussian errors given by a standard deviation sigma, with a mean sample time of $meandt$ and standard deviation of $stddt$."
   ]
  },
  {
   "cell_type": "code",
   "execution_count": null,
   "metadata": {},
   "outputs": [],
   "source": [
    "def getTimeSeries(per, n, sigma, meandt, stddt):\n",
    "    # YOUR CODE HERE\n",
    "    \n",
    "    return t, y\n",
    "    \n",
    "t, y = getTimeSeries(0.1, 1000, 0.2, 1.0, 0.2)\n",
    "\n",
    "plt.plot(t, y, 'k*')"
   ]
  },
  {
   "cell_type": "markdown",
   "metadata": {},
   "source": [
    "2) Apply LombScargle to recover the period and then plot the corresponding periodogram, and the phase folded time series."
   ]
  },
  {
   "cell_type": "code",
   "execution_count": 19,
   "metadata": {},
   "outputs": [],
   "source": [
    "# YOUR CODE HERE"
   ]
  },
  {
   "cell_type": "markdown",
   "metadata": {},
   "source": [
    "3) For a range of periods extending over three decades, e.g., $\\log_{10}(per) = -1 - 2$, generate 10 time series and determine how accurate (how many period found by Lomb-Scargle are within 1\\% of the known periods) Lomb-Scargle are.\n",
    "\n",
    "You might consider repeating this test as (a) a function of number of data points in the time series, i.e., plot LS accuracy againts $n$, (b) a range of error values ($sigma$), and (c) different sample times."
   ]
  },
  {
   "cell_type": "code",
   "execution_count": 20,
   "metadata": {},
   "outputs": [],
   "source": [
    "# YOUR CODE HERE"
   ]
  },
  {
   "cell_type": "markdown",
   "metadata": {},
   "source": [
    "# APPENDIX: Challenge Problem"
   ]
  },
  {
   "cell_type": "markdown",
   "metadata": {},
   "source": [
    "The above data sets were relatively straightfoward to work with using the Lomb-Scargle Periodogram because the data were rather \"clean\" and did not exhibit much power at alternative frequencies.  You can find two additional data sets in the data director for this module.  One is \"asteroid2\", which is for the asteroid 4404 Enirac observed by student at the University of Maryland in Spring 2017.  The other is \"delta-scuti\", which is for a Delta Scuti-type variable star.  You will find that both of these objects have very \"messy\" periodograms, in which is its unclear what the \"best\" period is.  You can study each of these objects by looking at subsets of the data (and running LS on the subsets), potentially temporarily eliminating data points which are outliers, and otherwise being clever in your analysis.  You can begin your analysis in the space below."
   ]
  },
  {
   "cell_type": "code",
   "execution_count": null,
   "metadata": {},
   "outputs": [],
   "source": []
  }
 ],
 "metadata": {
  "anaconda-cloud": {},
  "kernelspec": {
   "display_name": "Python 3 (ipykernel)",
   "language": "python",
   "name": "python3"
  },
  "language_info": {
   "codemirror_mode": {
    "name": "ipython",
    "version": 3
   },
   "file_extension": ".py",
   "mimetype": "text/x-python",
   "name": "python",
   "nbconvert_exporter": "python",
   "pygments_lexer": "ipython3",
   "version": "3.9.7"
  }
 },
 "nbformat": 4,
 "nbformat_minor": 1
}
